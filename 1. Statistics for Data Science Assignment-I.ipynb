{
 "cells": [
  {
   "cell_type": "markdown",
   "id": "3d567c27-f7b3-434c-8087-29538dad7beb",
   "metadata": {},
   "source": [
    "![image](https://user-images.githubusercontent.com/57321948/196933065-4b16c235-f3b9-4391-9cfe-4affcec87c35.png)\n",
    "\n",
    "# Name: Mohammad Wasiq\n",
    "\n",
    "## E-mail: `mohammadwasiq0786@gmail.com`\n",
    "\n",
    "## Statistics for Data Science Assignment - I"
   ]
  },
  {
   "cell_type": "markdown",
   "id": "c0976b63-2a0c-4587-bbb3-caa385956b02",
   "metadata": {},
   "source": [
    "**`Q1.`** **What exactly is the difference between descriptive and inferential statistics ?**\n",
    "\n",
    "**`Ans`**\n",
    "\n",
    "**Descriptive statistics** is the branch of statistics that deals with the summary and description of data. It involves calculating measures such as mean, median, mode, standard deviation, variance, and range to describe the characteristics of a dataset. Descriptive statistics are used to summarize and present data in a meaningful way that can be easily understood by researchers and decision-makers. Descriptive statistics are useful in understanding the central tendencies and the spread of the data, identifying outliers and patterns, and making comparisons between different groups or datasets.\n",
    "\n",
    "**Inferential statistics** is the branch of statistics that deals with making generalizations and predictions about a population based on a sample of data. Inferential statistics involves using probability theory and statistical techniques to draw conclusions about a population based on a sample. The aim of inferential statistics is to make inferences about a population based on a sample while taking into account the inherent variability and uncertainty of the data. Inferential statistics are used to test hypotheses, estimate population parameters, and make predictions about the future."
   ]
  },
  {
   "cell_type": "markdown",
   "id": "48e51cd5-5e1e-4613-a33b-8e5060e5113a",
   "metadata": {},
   "source": [
    "**`Q2.`** **I'm not sure what is the difference between a sample and a population ?**\n",
    "\n",
    "**`Ans`** \n",
    "\n",
    "**Population** refers to the entire group of individuals, items, or events that a researcher is interested in studying. The population is the complete set of all the possible units that could be included in a study. For example, if a researcher is interested in studying the average height of all adults in a country, then the population would be all the adults in that country.\n",
    "\n",
    "**Sample**, on the other hand, is a subset of the population that is selected for study. It is a smaller group of individuals or items that are chosen from the population in order to make inferences or draw conclusions about the population. A sample is typically used when it is impractical or impossible to study the entire population. For example, it would be impractical and time-consuming to measure the height of every adult in a country. Therefore, a sample of adults would be selected from the population and their height would be measured."
   ]
  },
  {
   "cell_type": "markdown",
   "id": "fde35d4f-56fa-406f-b4f4-ec06da8c2a17",
   "metadata": {},
   "source": [
    "**`Q3.`** **What distinguishes descriptive statistics from other types of statistics ?**\n",
    "\n",
    "**`Ans`**\n",
    "\n",
    "Descriptive statistics is a branch of statistics that deals with the summarization and presentation of data in a meaningful way that can be easily understood by researchers and decision-makers. Descriptive statistics provides a way to describe the characteristics of a dataset, such as its central tendency, variability, and distribution, using measures such as mean, median, mode, standard deviation, variance, and range.\n",
    "\n",
    "What distinguishes descriptive statistics from other types of statistics is that it does not involve making any inferences or predictions about a population based on a sample of data. Instead, it focuses on the summary and presentation of data that has already been collected. Descriptive statistics is concerned with describing what has happened or what is happening, rather than making predictions about what will happen in the future.\n",
    "\n",
    "Other types of statistics, such as inferential statistics, are concerned with making inferences or predictions about a population based on a sample of data. Inferential statistics uses probability theory and statistical techniques to draw conclusions about a population based on a sample. Inferential statistics are used to test hypotheses, estimate population parameters, and make predictions about the future."
   ]
  },
  {
   "cell_type": "markdown",
   "id": "e1a56eed-ed5f-43df-b52f-01652390c593",
   "metadata": {},
   "source": [
    "**`Q4.`** **What is the difference between quantitative and qualitative data ?**\n",
    "\n",
    "**`Ans`**\n",
    "\n",
    "**Quantitative Data** is numerical data that can be measured and expressed using numbers. It is usually collected using instruments or tools that are designed to measure a specific variable. Examples of quantitative data include height, weight, temperature, and the number of people in a room. Quantitative data can be further classified as `discrete` or `continuous data`. Discrete data is made up of individual values that are counted, while continuous data represents a range of values that can be measured on a continuous scale.\n",
    "\n",
    "**Qualitative Data** is non-numerical data that is often based on observations or subjective experiences. It describes characteristics or qualities of something, rather than quantities or amounts. Qualitative data is often collected using open-ended questions, interviews, or observations. Examples of qualitative data include the color of a person's eyes, the texture of a fabric, and the feeling of a particular experience. Qualitative data can be further classified as `nominal`, `ordinal`, or `interval` data. Nominal data is categorical data that does not have an inherent order, while ordinal data has a natural order or ranking, and interval data has a specific distance or magnitude between the values."
   ]
  },
  {
   "cell_type": "markdown",
   "id": "7d2d87a0-c21b-40a0-86bd-cf4b069f6078",
   "metadata": {},
   "source": [
    "**`Q5.`** **What is the definition of a percentile ?**\n",
    "\n",
    "**`Ans`** \n",
    "\n",
    "A percentile is a statistical measure used to describe the position of a particular observation in a dataset relative to the rest of the data. It indicates the percentage of observations that are below a particular value in the dataset."
   ]
  }
 ],
 "metadata": {
  "kernelspec": {
   "display_name": "Python 3 (ipykernel)",
   "language": "python",
   "name": "python3"
  },
  "language_info": {
   "codemirror_mode": {
    "name": "ipython",
    "version": 3
   },
   "file_extension": ".py",
   "mimetype": "text/x-python",
   "name": "python",
   "nbconvert_exporter": "python",
   "pygments_lexer": "ipython3",
   "version": "3.10.6"
  }
 },
 "nbformat": 4,
 "nbformat_minor": 5
}
