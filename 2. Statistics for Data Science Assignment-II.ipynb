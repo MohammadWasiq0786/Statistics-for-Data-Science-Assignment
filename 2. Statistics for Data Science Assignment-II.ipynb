{
 "cells": [
  {
   "cell_type": "markdown",
   "id": "4342ba2e-ebd3-49fa-9972-e1099a8fa27b",
   "metadata": {},
   "source": [
    "![image](https://user-images.githubusercontent.com/57321948/196933065-4b16c235-f3b9-4391-9cfe-4affcec87c35.png)\n",
    "\n",
    "# Name: Mohammad Wasiq\n",
    "\n",
    "## E-mail: `mohammadwasiq0786@gmail.com`\n",
    "\n",
    "## Statistics for Data Science Assignment - II"
   ]
  },
  {
   "cell_type": "markdown",
   "id": "96db9a24-2d12-452f-b27e-65ec67e226f8",
   "metadata": {},
   "source": [
    "**`Q1.`** **How can we figure out what the interquartile range is ?**\n",
    "\n",
    "**`Ans`** \n",
    "\n",
    "The interquartile range (IQR) is a measure of the spread of a dataset and is calculated as the difference between the third quartile (Q3) and the first quartile (Q1).\n",
    "\n",
    "To find the interquartile range, follow these steps:\n",
    "\n",
    "1. Sort the data set in ascending order.\n",
    "2. Calculate the median of the entire data set, also known as the second quartile (Q2).\n",
    "3. Divide the data set into two halves, the lower half and the upper half. If the total number of data points is odd, exclude the median from both halves. If the total number of data points is even, include the median in both halves.\n",
    "4. Calculate the median of the lower half, also known as the first quartile (Q1).\n",
    "5. Calculate the median of the upper half, also known as the third quartile (Q3).\n",
    "6. Calculate the difference between Q3 and Q1 to find the IQR.\n",
    "\n",
    "Here's an example:\n",
    "\n",
    "Suppose you have the following data set:\n",
    "\n",
    "10, 20, 30, 40, 50, 60, 70, 80, 90\n",
    "\n",
    "1. Sort the data set in ascending order: 10, 20, 30, 40, 50, 60, 70, 80, 90\n",
    "2. Calculate the median of the entire data set: 50\n",
    "3. Divide the data set into two halves:\n",
    "<br> Lower half: 10, 20, 30, 40\n",
    "<br> Upper half: 60, 70, 80, 90\n",
    "\n",
    "4. Calculate the median of the lower half: 25\n",
    "5. Calculate the median of the upper half: 75\n",
    "6. Calculate the difference between Q3 and Q1 to find the IQR: 75 - 25 = 50"
   ]
  },
  {
   "cell_type": "markdown",
   "id": "14118e71-7c40-4650-ac09-60c780d63170",
   "metadata": {},
   "source": [
    "**`Q2.`** **What exactly is the value of the 5-number theory ?**\n",
    "\n",
    "**`Ans`** \n",
    "\n",
    "The 5-number summary is a set of descriptive statistics that provide information about the central tendency and spread of a dataset. The 5-number summary consists of the following five values:\n",
    "\n",
    "1. **Minimum value:** The smallest value in the dataset.\n",
    "2. **First quartile (Q1):** The value below which 25% of the data falls.\n",
    "3. Median (Q2):** The value that separates the dataset into two equal halves.\n",
    "4. Third quartile (Q3):** The value below which 75% of the data falls.\n",
    "7. Maximum value:** The largest value in the dataset.\n",
    "\n",
    "The 5-number summary is often used in box plots, which visually display the 5-number summary as a box with whiskers.\n",
    "\n",
    "![bp](https://th.bing.com/th/id/R.d0c3c34cb9fc2a82c0a6816f2343f6bd?rik=B9n0LCXZPekB8w&pid=ImgRaw&r=0)"
   ]
  },
  {
   "cell_type": "markdown",
   "id": "58f796af-61c2-4144-89a5-6a52e417fa65",
   "metadata": {},
   "source": [
    "**`Q3.`** **What is the relationship between standard deviation and variance ?**\n",
    "\n",
    "**`Ans`** \n",
    "\n",
    "Standard deviation is the square root of variance.\n",
    "\n",
    "$$\\text{Standard Deviation}= \\sqrt{\\text{Variance}}$$"
   ]
  },
  {
   "cell_type": "markdown",
   "id": "61a27f61-473c-4f22-9e2d-b4fa78965973",
   "metadata": {},
   "source": [
    "**`Q4.`** **What does the difference between variance and standard deviation mean ?**\n",
    "\n",
    "**`Ans`** \n",
    "\n",
    "Variance and standard deviation are both measures of the spread, or variability, of a dataset.\n",
    "\n",
    "**Variance** is the average of the squared differences from the mean. It is calculated by subtracting the mean from each data point, squaring the differences, summing the squares, and then dividing by the total number of data points.\n",
    "\n",
    "**Standard deviation** is the square root of the variance. It is a more commonly used measure of variability because it has the same unit of measurement as the original data and is easier to interpret than variance.\n",
    "\n",
    "The main difference between variance and standard deviation is their scale. Variance is a squared unit of measurement, whereas standard deviation is in the same unit as the original data."
   ]
  },
  {
   "cell_type": "markdown",
   "id": "f793b9b0-ab19-4edc-aba3-06354847ac2a",
   "metadata": {},
   "source": [
    "**`Q5.`** **When is it appropriate to refer to a skewed data distribution ?**\n",
    "\n",
    "**`Ans`** \n",
    "\n",
    "A skewed data distribution is one in which the data is not evenly distributed around the mean. There are two types of skewness: positive skewness, where the tail of the distribution is longer on the right side, and negative skewness, where the tail of the distribution is longer on the left side.\n",
    "\n",
    "It is appropriate to refer to a skewed data distribution when the mean, median, and mode are not all approximately equal. If the mean is greater than the median, the distribution is positively skewed. If the mean is less than the median, the distribution is negatively skewed. If the mean, median, and mode are all approximately equal, the distribution is symmetrical.\n",
    "\n",
    "Skewed data distributions are common in real-world data sets and can have a significant impact on statistical analysis. For example, in a positively skewed distribution, the mean may be higher than what is typical for the majority of the data, while in a negatively skewed distribution, the mean may be lower than what is typical for the majority of the data.\n",
    "\n",
    "![skew](https://blog.minitab.com/hubfs/Imported_Blog_Media/1_curves.png)"
   ]
  }
 ],
 "metadata": {
  "kernelspec": {
   "display_name": "Python 3 (ipykernel)",
   "language": "python",
   "name": "python3"
  },
  "language_info": {
   "codemirror_mode": {
    "name": "ipython",
    "version": 3
   },
   "file_extension": ".py",
   "mimetype": "text/x-python",
   "name": "python",
   "nbconvert_exporter": "python",
   "pygments_lexer": "ipython3",
   "version": "3.10.6"
  }
 },
 "nbformat": 4,
 "nbformat_minor": 5
}
