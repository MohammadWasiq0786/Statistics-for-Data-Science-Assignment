{
 "cells": [
  {
   "cell_type": "markdown",
   "id": "0a01562e-8677-4029-bad4-a368e439766b",
   "metadata": {},
   "source": [
    "![image](https://user-images.githubusercontent.com/57321948/196933065-4b16c235-f3b9-4391-9cfe-4affcec87c35.png)\n",
    "\n",
    "# Name: Mohammad Wasiq\n",
    "\n",
    "## E-mail: `mohammadwasiq0786@gmail.com`\n",
    "\n",
    "## Statistics for Data Science Assignment - III"
   ]
  },
  {
   "cell_type": "markdown",
   "id": "2b0f4b7a-2bc4-44e0-84c5-07481e7b5fa6",
   "metadata": {},
   "source": [
    "**`Q1.`** **Write the Gaussian Distribution empirical formula.**\n",
    "\n",
    "**`Ans`** \n",
    "\n",
    "$$P(x) = \\frac{1}{{\\sigma \\sqrt {2\\pi}}} e^{-\\frac{(x-\\mu)^2}{2\\sigma^2}}$$\n",
    "\n",
    "where, $\\mu$ is mean and $\\sigma^2$ is the variance of data.\n",
    "\n",
    "The **Gaussian distribution empirical formula**, also known as the 68-95-99.7 rule, is a useful rule of thumb for understanding the spread of data in a normal distribution.\n",
    "\n",
    "The empirical formula states that:\n",
    "\n",
    "$P(\\mu - \\sigma \\le X \\le  \\mu + \\sigma) = 0.68$\n",
    "<br> $P(\\mu - 2\\sigma \\le X \\le  \\mu + 2\\sigma) = 0.95$\n",
    "<br> $P(\\mu - 3\\sigma \\le X \\le  \\mu + 3\\sigma) = 0.997$\n",
    "\n",
    "where $X$ represents the data, $\\mu$ represents the mean of the data, and $\\sigma$ represents the standard deviation of the data."
   ]
  },
  {
   "cell_type": "markdown",
   "id": "91618458-10ae-4fe6-ac9c-afae8efacbe7",
   "metadata": {},
   "source": [
    "**`Q2.`** **What is the Z-score, and why is it important ?**\n",
    "\n",
    "**`Ans`** \n",
    "$$Z= \\frac{X- \\mu}{\\sigma}$$\n",
    "\n",
    "The Z-score, also known as the standard score, is a statistical measure that expresses the distance between an individual data point and the mean of the distribution in terms of standard deviations.\n",
    "\n",
    "Z-scores are important because they allow us to compare data points from different distributions on a common scale, making it easier to identify outliers or extreme values."
   ]
  },
  {
   "cell_type": "markdown",
   "id": "450dbb84-ad59-447a-a149-ba6f9e78c55b",
   "metadata": {},
   "source": [
    "**`Q3.`** **What is an outlier, exactly ?**\n",
    "\n",
    "**`Ans`** \n",
    "\n",
    "An outlier is an observation or data point that is significantly different from other observations in the same data set. In other words, it is a value that is located far away from most other values in the data set.\n",
    "\n",
    "Outliers can occur for various reasons, such as measurement error, data entry errors, or simply being a legitimate but rare observation.\n",
    "\n",
    "Outliers can have a significant impact on statistical analyses, such as the mean or standard deviation, which are sensitive to extreme values.\n",
    "\n",
    "It is important to identify and understand outliers in a data set to avoid drawing incorrect conclusions from statistical analyses."
   ]
  },
  {
   "cell_type": "markdown",
   "id": "5be83655-58c4-4075-abd2-481ab9f22233",
   "metadata": {},
   "source": [
    "**`Q4.`** **What are our options for dealing with outliers in our dataset ?**\n",
    "\n",
    "**`Ans`** \n",
    "\n",
    "There are several options for dealing with outliers in a dataset, depending on the nature of the data and the goals of the analysis. Some possible approaches are:\n",
    "\n",
    "1. **Leave the outliers as they are:** In some cases, outliers represent legitimate observations and should not be removed or altered. This is especially true if the outliers are of interest in themselves, or if they reflect genuine variation in the data.\n",
    "2. **Remove the outliers:** One option is to remove outliers from the dataset entirely. This can be done through graphical or statistical methods, as mentioned earlier. However, it is important to be cautious when removing outliers, as this can affect the overall distribution of the data and potentially bias any conclusions drawn from the analysis.\n",
    "3. **Transform the data:** Another option is to transform the data, such as through a logarithmic or square-root transformation, to reduce the impact of extreme values. This can be especially useful if the distribution of the data is skewed or if the outliers are affecting the variance of the data.\n",
    "4. **Winsorize the data:** Winsorization is a method that involves replacing extreme values with less extreme values, such as by setting all values above a certain percentile to that percentile value. This approach can be useful if the outliers are likely to be due to measurement errors or other factors that are unlikely to reflect genuine variation in the data.\n",
    "5. **Use robust statistical methods:** Finally, another approach is to use statistical methods that are less sensitive to outliers, such as median or trimmed means, rather than the mean. This can be useful if the outliers are having a disproportionate impact on the overall mean and variance of the data."
   ]
  },
  {
   "cell_type": "markdown",
   "id": "be0188ad-03c2-4e0f-be7d-826af95b88b6",
   "metadata": {},
   "source": [
    "**`Q5.`** **Write the sample and population variances equations and explain Bessel \n",
    "Correction.**\n",
    "\n",
    "**`Ans`** \n",
    "\n",
    "The **sample variance** is a measure of the spread of a dataset, calculated by taking the sum of the squared differences between each data point and the sample mean, divided by the sample size minus one. The formula for sample variance is:\n",
    "\n",
    "$$s^2 = \\sum{(x - \\bar{x})^2} {(n - 1)}$$\n",
    "\n",
    "Where $s^2$ is the sample variance, $x$ is each individual data point, $\\bar{x}$ is the sample mean, and n is the sample size.\n",
    "\n",
    "The **population variance**, on the other hand, is a measure of the spread of the entire population, calculated in a similar way but using the population mean instead of the sample mean. The formula for population variance is:\n",
    "\n",
    "$$\\sigma^2= \\sum \\frac{(x- \\mu)^2} {N}$$\n",
    "\n",
    "Where $\\sigma^2$ is the population variance, $x$ is each individual data point, μ is the population mean, and $N$ is the population size.\n",
    "\n",
    "**Bessel's correction** is a statistical correction that is applied to the sample variance formula to account for the fact that the sample variance tends to underestimate the true population variance. This correction is necessary because the sample variance is calculated using the sample mean, which is itself an estimate of the true population mean and is therefore subject to random sampling variation.\n",
    "\n",
    "Bessel's correction involves dividing the sum of the squared differences by $(n-1)$ instead of $n$ in the sample variance formula. This adjustment increases the sample variance slightly and provides a more accurate estimate of the true population variance.\n"
   ]
  }
 ],
 "metadata": {
  "kernelspec": {
   "display_name": "Python 3 (ipykernel)",
   "language": "python",
   "name": "python3"
  },
  "language_info": {
   "codemirror_mode": {
    "name": "ipython",
    "version": 3
   },
   "file_extension": ".py",
   "mimetype": "text/x-python",
   "name": "python",
   "nbconvert_exporter": "python",
   "pygments_lexer": "ipython3",
   "version": "3.10.6"
  }
 },
 "nbformat": 4,
 "nbformat_minor": 5
}
