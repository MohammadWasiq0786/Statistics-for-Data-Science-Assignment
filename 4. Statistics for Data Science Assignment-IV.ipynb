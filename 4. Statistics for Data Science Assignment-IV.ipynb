{
 "cells": [
  {
   "cell_type": "markdown",
   "id": "f8906fd2-84c6-4562-bc93-7c01824b29d2",
   "metadata": {},
   "source": [
    "![image](https://user-images.githubusercontent.com/57321948/196933065-4b16c235-f3b9-4391-9cfe-4affcec87c35.png)\n",
    "\n",
    "# Name: Mohammad Wasiq\n",
    "\n",
    "## E-mail: `mohammadwasiq0786@gmail.com`\n",
    "\n",
    "## Statistics for Data Science Assignment - IV"
   ]
  },
  {
   "cell_type": "markdown",
   "id": "3d0f308c-bddb-45a8-8104-6e0614a3871c",
   "metadata": {},
   "source": [
    "**`Q1.`** **What is the definition of covariance ? Create the formula for it.**\n",
    "\n",
    "**`Ans`** \n",
    "\n",
    "**Covariance** is a statistical measure that quantifies the degree to which two variables are associated or vary together. Specifically, covariance measures the joint variability of two random variables. If the variables tend to vary in the same direction (i.e., when one variable is high, the other is also high), the covariance will be positive. If the variables tend to vary in opposite directions (i.e., when one variable is high, the other is low), the covariance will be negative. If the variables are not related, the covariance will be close to zero.\n",
    "\n",
    "The formula for covariance between two variables $X$ and $Y$, with sample size $n$, is:\n",
    "\n",
    "$$\\text{cov}(X,Y) = \\frac{\\sum\\limits_{i=1}^{n}(x_i - \\bar{x})(y_i - \\bar{y})}{n-1}$$\n",
    "\n",
    "where $\\bar{x}$ and $\\bar{y}$ denote the sample means of $X$ and $Y$, respectively, and $n$ is the sample size."
   ]
  },
  {
   "cell_type": "markdown",
   "id": "ee6ed75c-1a7c-4a7e-810c-99fba23f23a6",
   "metadata": {},
   "source": [
    "**`Q2.`** **What makes Correlations better than Covariance ?**\n",
    "\n",
    "**`Ans`** \n",
    "\n",
    "Correlation is considered to be better than covariance because it provides a standardized measure of the strength and direction of the relationship between two variables.\n",
    "\n",
    "Correlation coefficients are interpreted more easily than covariances. A correlation coefficient of -1 or 1 indicates a perfect negative or positive relationship, respectively, while a coefficient of 0 indicates no relationship between the variables. Correlation coefficients between -1 and 0 or 0 and 1 indicate a weaker negative or positive relationship, respectively, depending on the magnitude of the coefficient."
   ]
  },
  {
   "cell_type": "markdown",
   "id": "3e1d1543-0b5c-4086-b4af-ae8fd64885b7",
   "metadata": {},
   "source": [
    "**`Q3.`** **Explain the process as well as Pearson and Spearman Correlation.**\n",
    "\n",
    "**`Ans`** \n",
    "\n",
    "Correlation is a statistical technique used to measure the degree to which two variables are related. The two most commonly used types of correlation are Pearson correlation and Spearman correlation.\n",
    "\n",
    "**Pearson Correlation**\n",
    "\n",
    "The Pearson correlation coefficient, also known as the product-moment correlation coefficient, measures the linear relationship between two continuous variables. It is calculated by dividing the covariance of the two variables by the product of their standard deviations:\n",
    "\n",
    "$$r = \\frac{cov(X,Y)} {(sd(X) * sd(Y))}$$\n",
    "\n",
    "where $r$ is the correlation coefficient, $X$ and $Y$ are the two variables being analyzed, $cov(X,Y)$ is their covariance, and $sd(X)$ and $sd(Y)$ are their standard deviations. The resulting value of $r$ ranges from $-1$ to $1$, where $-1$ indicates a perfect negative correlation, $0$ indicates no correlation, and $1$ indicates a perfect positive correlation.\n",
    "\n",
    "**Spearman Correlation**\n",
    "\n",
    "The Spearman correlation coefficient, also known as the rank correlation coefficient, measures the degree to which the relationship between two variables is monotonic. A monotonic relationship is a non-linear relationship that increases or decreases consistently. Unlike Pearson correlation, the Spearman correlation coefficient can be used to measure the relationship between both continuous and ordinal variables.\n",
    "\n",
    "The Spearman correlation coefficient is calculated by first converting the values of each variable into ranks, and then calculating the Pearson correlation coefficient on the ranks. The formula for the Spearman correlation coefficient is:\n",
    "\n",
    "$$r_s = 1 - \\frac{6\\sum d_i^2}{n(n^2-1)}$$\n",
    "\n",
    "where $r_s$ is the Spearman correlation coefficient, $d_i$ is the difference between the ranks of the two variables for the ith observation, and $n$ is the sample size."
   ]
  },
  {
   "cell_type": "markdown",
   "id": "770346f1-901b-446c-8dae-4659eda0079f",
   "metadata": {},
   "source": [
    "**`Q4.`** **What are the advantages of Spearman Correlation over Pearson Correlation ?**\n",
    "\n",
    "**`Ans`** \n",
    "\n",
    "1. **Applicability to non-linear relationships:** Pearson correlation measures only linear relationships between two variables, while Spearman correlation is also applicable to monotonic relationships, whether they are increasing or decreasing. This makes Spearman correlation more versatile and applicable to a wider range of data.\n",
    "2. **Robustness to outliers:** Pearson correlation is sensitive to outliers, meaning that a single extreme value can have a large impact on the correlation coefficient. Spearman correlation is less sensitive to outliers because it is based on ranks rather than actual values.\n",
    "3. **Applicability to ordinal data:** Pearson correlation assumes that the data is continuous and normally distributed. Spearman correlation, on the other hand, is applicable to both continuous and ordinal data, making it a more versatile tool for analyzing a variety of data types.\n",
    "4. **Ease of interpretation:** The Spearman correlation coefficient is based on ranks, which are easy to interpret and understand. In contrast, interpreting Pearson correlation requires a more complex understanding of the relationship between the two variables.\n",
    "5. **More robust to violations of assumptions:** Pearson correlation is based on several assumptions, such as normality and linearity. If these assumptions are violated, the Pearson correlation coefficient may not accurately reflect the true relationship between the variables. Spearman correlation is less sensitive to these violations and may be more appropriate in situations where the assumptions of Pearson correlation are not met.\n",
    "\n",
    "In summary, Spearman correlation has advantages over Pearson correlation in terms of its applicability to non-linear relationships, robustness to outliers, applicability to ordinal data, ease of interpretation, and robustness to violations of assumptions. However, it should be noted that the choice of correlation coefficient depends on the research question being asked and the nature of the data being analyzed."
   ]
  },
  {
   "cell_type": "markdown",
   "id": "0c6de698-a0ff-4ed1-b05e-9cedc60ead0c",
   "metadata": {},
   "source": [
    "**`Q5.`** **Describe the Central Limit Theorem.**\n",
    "\n",
    "**`Ans`** \n",
    "\n",
    "The **Central Limit Theorem (CLT)** is a fundamental statistical concept that describes the behavior of sample means when drawing repeated samples from a population, regardless of the population's underlying distribution. The theorem states that as the sample size increases, the distribution of sample means approaches a normal distribution with a mean equal to the population mean and a standard deviation equal to the population standard deviation divided by the square root of the sample size.\n",
    "\n",
    "![clt](https://th.bing.com/th/id/OIP._igie4UaPZnfQONdzjNGjwHaFj?pid=ImgDet&rs=1)"
   ]
  }
 ],
 "metadata": {
  "kernelspec": {
   "display_name": "Python 3 (ipykernel)",
   "language": "python",
   "name": "python3"
  },
  "language_info": {
   "codemirror_mode": {
    "name": "ipython",
    "version": 3
   },
   "file_extension": ".py",
   "mimetype": "text/x-python",
   "name": "python",
   "nbconvert_exporter": "python",
   "pygments_lexer": "ipython3",
   "version": "3.10.6"
  }
 },
 "nbformat": 4,
 "nbformat_minor": 5
}
