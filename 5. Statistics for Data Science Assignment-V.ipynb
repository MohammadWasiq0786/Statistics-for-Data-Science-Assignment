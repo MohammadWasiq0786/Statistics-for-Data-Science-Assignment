{
 "cells": [
  {
   "cell_type": "markdown",
   "id": "4e0c08d0-d5fc-4e10-a0e7-69603cf6c75c",
   "metadata": {},
   "source": [
    "![image](https://user-images.githubusercontent.com/57321948/196933065-4b16c235-f3b9-4391-9cfe-4affcec87c35.png)\n",
    "\n",
    "# Name: Mohammad Wasiq\n",
    "\n",
    "## E-mail: `mohammadwasiq0786@gmail.com`\n",
    "\n",
    "## Statistics for Data Science Assignment - V"
   ]
  },
  {
   "cell_type": "markdown",
   "id": "a99df6a2-cffb-483d-89bc-3c2e0c34b32e",
   "metadata": {},
   "source": [
    "**`Q1.`** **How are you going to figure out the average heights of all the trees in Karnataka ?**\n",
    "\n",
    "**`Ans`** \n",
    "\n",
    "Using **`mean`** we can easily find the average heights of all the trees in Karnataka."
   ]
  },
  {
   "cell_type": "markdown",
   "id": "e3703943-bce6-4070-9921-69a8ca0da6fa",
   "metadata": {},
   "source": [
    "**`Q2.`** **What is hypothesis testing and how does it work ?**\n",
    "\n",
    "**`Ans`** \n",
    "\n",
    "**Hypothesis:** A definite statement about a population parameter.\n",
    "\n",
    "**Steps involving in Statistical Hypothesis**\n",
    "1. Formulation Null Hypothesis $H_0$.\n",
    "2. Formulation Alternative Hypothesis $H_1$.\n",
    "3. Identify the type of Test (Two Tailed/Right Tailed/Left Tailed).\n",
    "4. Fixed the  value of $\\alpha$ (Level of Significane).\n",
    "5. Compute the statistics, under ($H_0).\n",
    "6. Taking decision.\n",
    "\n",
    "* **We Reject** $H_0$ if $|Z_{cal}|> Z_{\\alpha}$\n",
    "* **We Reject** $H_0$ if $p < LOS$"
   ]
  },
  {
   "cell_type": "markdown",
   "id": "7b92a6c4-a34a-4278-b5b0-4d4ded74e963",
   "metadata": {},
   "source": [
    "**`Q3.`** **Explain the differences between Alpha and Beta errors. Which inaccuracy is the \n",
    "most hazardous ?**\n",
    "\n",
    "**`Ans`** \n",
    "\n",
    "**Type-I Error:** This type of error occurs when a True null hypothesis is rejected.\n",
    "\n",
    "$$\\alpha= Pr(Reject \\,\\, H_0| H_0's\\,\\, True)$$\n",
    "\n",
    "**Type-II Error:** This type of error occurs when the false $H_0$ is not rejected or accepted.\n",
    "\n",
    "$$\\beta= Pr(Accept \\,\\, H_0| H_0's\\,\\, False)$$"
   ]
  },
  {
   "cell_type": "markdown",
   "id": "00c6a36e-6d88-4ac6-b2a8-9d7e1359b222",
   "metadata": {},
   "source": [
    "**`Q4.`** **What is the significance of the p-value ?**\n",
    "\n",
    "**`Ans`** \n",
    "\n",
    "The P value, or calculated probability, is the probability of finding the observed, or more extreme, results when the null hypothesis ($H_0$) of a study question is true — the definition of ‘extreme’ depends on how the hypothesis is being tested.\n",
    "\n",
    "If your P value is less than the chosen significance level then you reject the null hypothesis i.e. accept that your sample gives reasonable evidence to support the alternative hypothesis. It does NOT imply a “meaningful” or “important” difference; that is for you to decide when considering the real-world relevance of your result."
   ]
  },
  {
   "cell_type": "markdown",
   "id": "56de8de9-76a7-48d4-938a-0e99a01c8e6c",
   "metadata": {},
   "source": [
    "**`Q5.`** **What is the Probability Distribution Function and how does it work ?**\n",
    "\n",
    "**`Ans`** \n",
    "\n",
    "A **probability distribution function (PDF)** is a function that describes the probability of a random variable taking on a certain value or set of values. It is a mathematical description of the likelihood of different outcomes in a random process.\n",
    "\n",
    "The PDF is used to calculate the probability of a particular event occurring in a continuous distribution. It is represented by a curve, where the x-axis represents the values of the random variable, and the y-axis represents the probability of that value occurring. The area under the curve equals 1, meaning that the sum of all probabilities for all possible outcomes equals 1.\n",
    "\n",
    "The PDF can be used to determine the expected value, variance, and other statistical properties of a random variable. The expected value is the weighted average of all possible outcomes, where the weight is the probability of that outcome occurring. The variance measures the spread of the distribution around the expected value.\n",
    "\n",
    "There are many different types of probability distributions, including the normal distribution, the binomial distribution, the Poisson distribution, and the exponential distribution, among others. Each type of distribution has a unique PDF that describes the likelihood of different outcomes."
   ]
  }
 ],
 "metadata": {
  "kernelspec": {
   "display_name": "Python 3 (ipykernel)",
   "language": "python",
   "name": "python3"
  },
  "language_info": {
   "codemirror_mode": {
    "name": "ipython",
    "version": 3
   },
   "file_extension": ".py",
   "mimetype": "text/x-python",
   "name": "python",
   "nbconvert_exporter": "python",
   "pygments_lexer": "ipython3",
   "version": "3.10.6"
  }
 },
 "nbformat": 4,
 "nbformat_minor": 5
}
